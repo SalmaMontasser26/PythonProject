{
 "cells": [
  {
   "cell_type": "code",
   "execution_count": 2,
   "id": "5118657d",
   "metadata": {},
   "outputs": [],
   "source": [
    "import numpy as np\n",
    "import pandas as pd\n",
    "import seaborn as sns\n",
    "import matplotlib.pyplot as plt"
   ]
  },
  {
   "cell_type": "code",
   "execution_count": 3,
   "id": "5843d978",
   "metadata": {},
   "outputs": [],
   "source": [
    "class DataProcessor:\n",
    "    def __init__(self, file):\n",
    "        self.file = file\n",
    "        \n",
    "    def load_data(self):\n",
    "        return pd.read_csv(self.file)\n",
    "    \n",
    "    def clean_data(self, data):\n",
    "        data = data.dropna(subset=[\"Category\"])\n",
    "        data[\"Rating\"].fillna(0, inplace=True)\n",
    "        data.drop(\"Product Link\", axis=1, inplace=True)        \n",
    "        return data"
   ]
  },
  {
   "cell_type": "code",
   "execution_count": 4,
   "id": "d9023b72",
   "metadata": {},
   "outputs": [],
   "source": [
    "class DataAnalyzer:\n",
    "    \n",
    "    def get_average_of_column(self,column):\n",
    "        self.column = column\n",
    "        average = np.mean(self.column)\n",
    "        return average\n",
    "    \n",
    "    def get_distribution_of_column(self,column):\n",
    "        self.column = column\n",
    "        distribution = np.std(self.column)\n",
    "        return distribution\n",
    "        \n",
    "    def get_median_of_column(self,column):\n",
    "        self.column = column\n",
    "        median = np.median(self.column)\n",
    "        return median\n",
    "        \n",
    "    def get_mod_of_column(self,column): \n",
    "        self.column = column\n",
    "        mode = np.unique(self.column)\n",
    "        return mode"
   ]
  },
  {
   "cell_type": "code",
   "execution_count": 5,
   "id": "2902a9ee",
   "metadata": {},
   "outputs": [],
   "source": [
    "class DataVisualizer:\n",
    "        \n",
    "    def plot_line_chart(data):\n",
    "        \n",
    "        return sns.lineplot(x=\"No of Seller\", y=\"Price\", hue=\"Category\", data=df)\n",
    "    \n",
    "    def plot_distribution(data):\n",
    "        \n",
    "        return sns.displot(data=df,x='Quantity',kde=True)\n",
    "        \n",
    "    def plot_pie(data):\n",
    "        \n",
    "        Electronics_count = df[\"Category\"].value_counts()[\"Electronics\"]\n",
    "        Clothing_count = df[\"Category\"].value_counts()[\"Clothing Shoes & Jewelry\"]\n",
    "        Gift_count = df[\"Category\"].value_counts()[\"Gift Cards\"]\n",
    "\n",
    "        array = np.array([Electronics_count, Clothing_count, Gift_count])\n",
    "        keys = [\"Electronics\", \"Clothing Shoes & Jewelry\", \"Gift Cards\"]\n",
    "        \n",
    "        return plt.pie(array, labels=keys, autopct='%.0f%%')\n",
    "        \n",
    "    def plot_scatter(data):\n",
    "        \n",
    "        return sns.scatterplot(data=df,x=\"Price\", y=\"Quantity\", hue=\"Category\", size=\"Rank\")\n"
   ]
  },
  {
   "cell_type": "code",
   "execution_count": 6,
   "id": "28b6aa8b",
   "metadata": {},
   "outputs": [
    {
     "data": {
      "text/html": [
       "<div>\n",
       "<style scoped>\n",
       "    .dataframe tbody tr th:only-of-type {\n",
       "        vertical-align: middle;\n",
       "    }\n",
       "\n",
       "    .dataframe tbody tr th {\n",
       "        vertical-align: top;\n",
       "    }\n",
       "\n",
       "    .dataframe thead th {\n",
       "        text-align: right;\n",
       "    }\n",
       "</style>\n",
       "<table border=\"1\" class=\"dataframe\">\n",
       "  <thead>\n",
       "    <tr style=\"text-align: right;\">\n",
       "      <th></th>\n",
       "      <th>ASIN</th>\n",
       "      <th>Category</th>\n",
       "      <th>Product Link</th>\n",
       "      <th>No of Seller</th>\n",
       "      <th>Rank</th>\n",
       "      <th>Rating</th>\n",
       "      <th>Reviews Count</th>\n",
       "      <th>Price</th>\n",
       "      <th>Quantity</th>\n",
       "    </tr>\n",
       "  </thead>\n",
       "  <tbody>\n",
       "    <tr>\n",
       "      <th>0</th>\n",
       "      <td>B079QHML21</td>\n",
       "      <td>Electronics</td>\n",
       "      <td>https://www.amazon.com/gp/offer-listing/B079QH...</td>\n",
       "      <td>1</td>\n",
       "      <td>1</td>\n",
       "      <td>4.7</td>\n",
       "      <td>640,721</td>\n",
       "      <td>$4.00</td>\n",
       "      <td>3</td>\n",
       "    </tr>\n",
       "    <tr>\n",
       "      <th>1</th>\n",
       "      <td>B07FZ8S74R</td>\n",
       "      <td>Electronics</td>\n",
       "      <td>https://www.amazon.com/gp/offer-listing/B07FZ8...</td>\n",
       "      <td>1</td>\n",
       "      <td>2</td>\n",
       "      <td>4.7</td>\n",
       "      <td>854,114</td>\n",
       "      <td>$4.22</td>\n",
       "      <td>6</td>\n",
       "    </tr>\n",
       "    <tr>\n",
       "      <th>2</th>\n",
       "      <td>B07XJ8C8F5</td>\n",
       "      <td>Electronics</td>\n",
       "      <td>https://www.amazon.com/gp/offer-listing/B07XJ8...</td>\n",
       "      <td>1</td>\n",
       "      <td>3</td>\n",
       "      <td>4.7</td>\n",
       "      <td>267,821</td>\n",
       "      <td>$4.33</td>\n",
       "      <td>9</td>\n",
       "    </tr>\n",
       "    <tr>\n",
       "      <th>3</th>\n",
       "      <td>B07WVFCVJN</td>\n",
       "      <td>Electronics</td>\n",
       "      <td>https://www.amazon.com/gp/offer-listing/B07WVF...</td>\n",
       "      <td>27</td>\n",
       "      <td>4</td>\n",
       "      <td>4.8</td>\n",
       "      <td>114,267</td>\n",
       "      <td>$4.44</td>\n",
       "      <td>12</td>\n",
       "    </tr>\n",
       "    <tr>\n",
       "      <th>4</th>\n",
       "      <td>B08YT2N5SX</td>\n",
       "      <td>Electronics</td>\n",
       "      <td>https://www.amazon.com/gp/offer-listing/B08YT2...</td>\n",
       "      <td>1</td>\n",
       "      <td>5</td>\n",
       "      <td>4.7</td>\n",
       "      <td>267,821</td>\n",
       "      <td>$5.00</td>\n",
       "      <td>15</td>\n",
       "    </tr>\n",
       "  </tbody>\n",
       "</table>\n",
       "</div>"
      ],
      "text/plain": [
       "         ASIN     Category                                       Product Link  \\\n",
       "0  B079QHML21  Electronics  https://www.amazon.com/gp/offer-listing/B079QH...   \n",
       "1  B07FZ8S74R  Electronics  https://www.amazon.com/gp/offer-listing/B07FZ8...   \n",
       "2  B07XJ8C8F5  Electronics  https://www.amazon.com/gp/offer-listing/B07XJ8...   \n",
       "3  B07WVFCVJN  Electronics  https://www.amazon.com/gp/offer-listing/B07WVF...   \n",
       "4  B08YT2N5SX  Electronics  https://www.amazon.com/gp/offer-listing/B08YT2...   \n",
       "\n",
       "   No of Seller  Rank  Rating Reviews Count   Price  Quantity  \n",
       "0             1     1     4.7       640,721  $4.00          3  \n",
       "1             1     2     4.7       854,114  $4.22          6  \n",
       "2             1     3     4.7       267,821  $4.33          9  \n",
       "3            27     4     4.8       114,267  $4.44         12  \n",
       "4             1     5     4.7       267,821  $5.00         15  "
      ]
     },
     "execution_count": 6,
     "metadata": {},
     "output_type": "execute_result"
    }
   ],
   "source": [
    "file = \"data/Amazon_Best_Seller_2021_June.csv\"\n",
    "Amazon_dataset = DataProcessor(file)\n",
    "df = Amazon_dataset.load_data()\n",
    "df.head()\n"
   ]
  },
  {
   "cell_type": "code",
   "execution_count": 7,
   "id": "acd28706",
   "metadata": {},
   "outputs": [
    {
     "data": {
      "text/html": [
       "<div>\n",
       "<style scoped>\n",
       "    .dataframe tbody tr th:only-of-type {\n",
       "        vertical-align: middle;\n",
       "    }\n",
       "\n",
       "    .dataframe tbody tr th {\n",
       "        vertical-align: top;\n",
       "    }\n",
       "\n",
       "    .dataframe thead th {\n",
       "        text-align: right;\n",
       "    }\n",
       "</style>\n",
       "<table border=\"1\" class=\"dataframe\">\n",
       "  <thead>\n",
       "    <tr style=\"text-align: right;\">\n",
       "      <th></th>\n",
       "      <th>No of Seller</th>\n",
       "      <th>Rank</th>\n",
       "      <th>Rating</th>\n",
       "      <th>Quantity</th>\n",
       "    </tr>\n",
       "  </thead>\n",
       "  <tbody>\n",
       "    <tr>\n",
       "      <th>count</th>\n",
       "      <td>292.000000</td>\n",
       "      <td>292.000000</td>\n",
       "      <td>291.000000</td>\n",
       "      <td>292.000000</td>\n",
       "    </tr>\n",
       "    <tr>\n",
       "      <th>mean</th>\n",
       "      <td>4.544521</td>\n",
       "      <td>50.448630</td>\n",
       "      <td>4.596907</td>\n",
       "      <td>347.873288</td>\n",
       "    </tr>\n",
       "    <tr>\n",
       "      <th>std</th>\n",
       "      <td>8.855546</td>\n",
       "      <td>29.082666</td>\n",
       "      <td>0.203311</td>\n",
       "      <td>213.863980</td>\n",
       "    </tr>\n",
       "    <tr>\n",
       "      <th>min</th>\n",
       "      <td>1.000000</td>\n",
       "      <td>1.000000</td>\n",
       "      <td>4.000000</td>\n",
       "      <td>3.000000</td>\n",
       "    </tr>\n",
       "    <tr>\n",
       "      <th>25%</th>\n",
       "      <td>1.000000</td>\n",
       "      <td>25.000000</td>\n",
       "      <td>4.500000</td>\n",
       "      <td>96.000000</td>\n",
       "    </tr>\n",
       "    <tr>\n",
       "      <th>50%</th>\n",
       "      <td>1.000000</td>\n",
       "      <td>51.000000</td>\n",
       "      <td>4.600000</td>\n",
       "      <td>439.500000</td>\n",
       "    </tr>\n",
       "    <tr>\n",
       "      <th>75%</th>\n",
       "      <td>3.000000</td>\n",
       "      <td>75.250000</td>\n",
       "      <td>4.800000</td>\n",
       "      <td>532.500000</td>\n",
       "    </tr>\n",
       "    <tr>\n",
       "      <th>max</th>\n",
       "      <td>67.000000</td>\n",
       "      <td>100.000000</td>\n",
       "      <td>5.000000</td>\n",
       "      <td>614.000000</td>\n",
       "    </tr>\n",
       "  </tbody>\n",
       "</table>\n",
       "</div>"
      ],
      "text/plain": [
       "       No of Seller        Rank      Rating    Quantity\n",
       "count    292.000000  292.000000  291.000000  292.000000\n",
       "mean       4.544521   50.448630    4.596907  347.873288\n",
       "std        8.855546   29.082666    0.203311  213.863980\n",
       "min        1.000000    1.000000    4.000000    3.000000\n",
       "25%        1.000000   25.000000    4.500000   96.000000\n",
       "50%        1.000000   51.000000    4.600000  439.500000\n",
       "75%        3.000000   75.250000    4.800000  532.500000\n",
       "max       67.000000  100.000000    5.000000  614.000000"
      ]
     },
     "execution_count": 7,
     "metadata": {},
     "output_type": "execute_result"
    }
   ],
   "source": [
    "df.describe()"
   ]
  },
  {
   "cell_type": "code",
   "execution_count": 8,
   "id": "d8c68d29",
   "metadata": {},
   "outputs": [
    {
     "name": "stdout",
     "output_type": "stream",
     "text": [
      "<class 'pandas.core.frame.DataFrame'>\n",
      "RangeIndex: 292 entries, 0 to 291\n",
      "Data columns (total 9 columns):\n",
      " #   Column         Non-Null Count  Dtype  \n",
      "---  ------         --------------  -----  \n",
      " 0   ASIN           292 non-null    object \n",
      " 1   Category       290 non-null    object \n",
      " 2   Product Link   292 non-null    object \n",
      " 3   No of Seller   292 non-null    int64  \n",
      " 4   Rank           292 non-null    int64  \n",
      " 5   Rating         291 non-null    float64\n",
      " 6   Reviews Count  292 non-null    object \n",
      " 7   Price          292 non-null    object \n",
      " 8   Quantity       292 non-null    int64  \n",
      "dtypes: float64(1), int64(3), object(5)\n",
      "memory usage: 20.7+ KB\n"
     ]
    }
   ],
   "source": [
    "df.info()"
   ]
  },
  {
   "cell_type": "code",
   "execution_count": 9,
   "id": "89193344",
   "metadata": {},
   "outputs": [],
   "source": [
    "df['Rating']=df['Rating'].astype(float)"
   ]
  },
  {
   "cell_type": "code",
   "execution_count": 10,
   "id": "29cef782",
   "metadata": {},
   "outputs": [],
   "source": [
    "df['Rank']=df['Rank'].astype(int)"
   ]
  },
  {
   "cell_type": "code",
   "execution_count": 11,
   "id": "7c08a041",
   "metadata": {},
   "outputs": [
    {
     "name": "stderr",
     "output_type": "stream",
     "text": [
      "C:\\Users\\Salma\\AppData\\Local\\Temp\\ipykernel_2780\\2811889715.py:1: FutureWarning: The default value of regex will change from True to False in a future version. In addition, single character regular expressions will *not* be treated as literal strings when regex=True.\n",
      "  df['Price']=df['Price'].str.replace('$', '')\n"
     ]
    }
   ],
   "source": [
    "df['Price']=df['Price'].str.replace('$', '')\n",
    "df['Price']=df['Price'].astype(float)"
   ]
  },
  {
   "cell_type": "code",
   "execution_count": 12,
   "id": "c097a7f1",
   "metadata": {},
   "outputs": [
    {
     "name": "stdout",
     "output_type": "stream",
     "text": [
      "<class 'pandas.core.frame.DataFrame'>\n",
      "RangeIndex: 292 entries, 0 to 291\n",
      "Data columns (total 9 columns):\n",
      " #   Column         Non-Null Count  Dtype  \n",
      "---  ------         --------------  -----  \n",
      " 0   ASIN           292 non-null    object \n",
      " 1   Category       290 non-null    object \n",
      " 2   Product Link   292 non-null    object \n",
      " 3   No of Seller   292 non-null    int64  \n",
      " 4   Rank           292 non-null    int32  \n",
      " 5   Rating         291 non-null    float64\n",
      " 6   Reviews Count  292 non-null    object \n",
      " 7   Price          292 non-null    float64\n",
      " 8   Quantity       292 non-null    int64  \n",
      "dtypes: float64(2), int32(1), int64(2), object(4)\n",
      "memory usage: 19.5+ KB\n"
     ]
    }
   ],
   "source": [
    "df.info()"
   ]
  },
  {
   "cell_type": "code",
   "execution_count": 13,
   "id": "cec19263",
   "metadata": {},
   "outputs": [
    {
     "name": "stdout",
     "output_type": "stream",
     "text": [
      "Number of missing data: 3\n"
     ]
    }
   ],
   "source": [
    "missing_values_count = df.isnull().sum()\n",
    "# missing_values_count[0:10]\n",
    "# total_cells = np.product(df.shape)\n",
    "total_missing = missing_values_count.sum()\n",
    "\n",
    "print(\"Number of missing data:\", total_missing)"
   ]
  },
  {
   "cell_type": "code",
   "execution_count": 14,
   "id": "fb558750",
   "metadata": {},
   "outputs": [
    {
     "name": "stderr",
     "output_type": "stream",
     "text": [
      "C:\\Users\\Salma\\AppData\\Local\\Temp\\ipykernel_2780\\261131076.py:10: SettingWithCopyWarning: \n",
      "A value is trying to be set on a copy of a slice from a DataFrame\n",
      "\n",
      "See the caveats in the documentation: https://pandas.pydata.org/pandas-docs/stable/user_guide/indexing.html#returning-a-view-versus-a-copy\n",
      "  data[\"Rating\"].fillna(0, inplace=True)\n",
      "C:\\Users\\Salma\\AppData\\Local\\Temp\\ipykernel_2780\\261131076.py:11: SettingWithCopyWarning: \n",
      "A value is trying to be set on a copy of a slice from a DataFrame\n",
      "\n",
      "See the caveats in the documentation: https://pandas.pydata.org/pandas-docs/stable/user_guide/indexing.html#returning-a-view-versus-a-copy\n",
      "  data.drop(\"Product Link\", axis=1, inplace=True)\n"
     ]
    }
   ],
   "source": [
    "data = Amazon_dataset.clean_data(df)"
   ]
  },
  {
   "cell_type": "code",
   "execution_count": 15,
   "id": "5ce8606e",
   "metadata": {},
   "outputs": [
    {
     "name": "stdout",
     "output_type": "stream",
     "text": [
      "Number of missing data: 0\n"
     ]
    }
   ],
   "source": [
    "missing_values_count = data.isnull().sum()\n",
    "# missing_values_count[0:10]\n",
    "# total_cells = np.product(df.shape)\n",
    "total_missing = missing_values_count.sum()\n",
    "\n",
    "print(\"Number of missing data:\", total_missing)"
   ]
  },
  {
   "cell_type": "code",
   "execution_count": 16,
   "id": "83f9ad15",
   "metadata": {},
   "outputs": [
    {
     "data": {
      "text/html": [
       "<div>\n",
       "<style scoped>\n",
       "    .dataframe tbody tr th:only-of-type {\n",
       "        vertical-align: middle;\n",
       "    }\n",
       "\n",
       "    .dataframe tbody tr th {\n",
       "        vertical-align: top;\n",
       "    }\n",
       "\n",
       "    .dataframe thead th {\n",
       "        text-align: right;\n",
       "    }\n",
       "</style>\n",
       "<table border=\"1\" class=\"dataframe\">\n",
       "  <thead>\n",
       "    <tr style=\"text-align: right;\">\n",
       "      <th></th>\n",
       "      <th>ASIN</th>\n",
       "      <th>Category</th>\n",
       "      <th>No of Seller</th>\n",
       "      <th>Rank</th>\n",
       "      <th>Rating</th>\n",
       "      <th>Reviews Count</th>\n",
       "      <th>Price</th>\n",
       "      <th>Quantity</th>\n",
       "    </tr>\n",
       "  </thead>\n",
       "  <tbody>\n",
       "    <tr>\n",
       "      <th>0</th>\n",
       "      <td>B079QHML21</td>\n",
       "      <td>Electronics</td>\n",
       "      <td>1</td>\n",
       "      <td>1</td>\n",
       "      <td>4.7</td>\n",
       "      <td>640,721</td>\n",
       "      <td>4.00</td>\n",
       "      <td>3</td>\n",
       "    </tr>\n",
       "    <tr>\n",
       "      <th>1</th>\n",
       "      <td>B07FZ8S74R</td>\n",
       "      <td>Electronics</td>\n",
       "      <td>1</td>\n",
       "      <td>2</td>\n",
       "      <td>4.7</td>\n",
       "      <td>854,114</td>\n",
       "      <td>4.22</td>\n",
       "      <td>6</td>\n",
       "    </tr>\n",
       "    <tr>\n",
       "      <th>2</th>\n",
       "      <td>B07XJ8C8F5</td>\n",
       "      <td>Electronics</td>\n",
       "      <td>1</td>\n",
       "      <td>3</td>\n",
       "      <td>4.7</td>\n",
       "      <td>267,821</td>\n",
       "      <td>4.33</td>\n",
       "      <td>9</td>\n",
       "    </tr>\n",
       "    <tr>\n",
       "      <th>3</th>\n",
       "      <td>B07WVFCVJN</td>\n",
       "      <td>Electronics</td>\n",
       "      <td>27</td>\n",
       "      <td>4</td>\n",
       "      <td>4.8</td>\n",
       "      <td>114,267</td>\n",
       "      <td>4.44</td>\n",
       "      <td>12</td>\n",
       "    </tr>\n",
       "    <tr>\n",
       "      <th>4</th>\n",
       "      <td>B08YT2N5SX</td>\n",
       "      <td>Electronics</td>\n",
       "      <td>1</td>\n",
       "      <td>5</td>\n",
       "      <td>4.7</td>\n",
       "      <td>267,821</td>\n",
       "      <td>5.00</td>\n",
       "      <td>15</td>\n",
       "    </tr>\n",
       "  </tbody>\n",
       "</table>\n",
       "</div>"
      ],
      "text/plain": [
       "         ASIN     Category  No of Seller  Rank  Rating Reviews Count  Price  \\\n",
       "0  B079QHML21  Electronics             1     1     4.7       640,721   4.00   \n",
       "1  B07FZ8S74R  Electronics             1     2     4.7       854,114   4.22   \n",
       "2  B07XJ8C8F5  Electronics             1     3     4.7       267,821   4.33   \n",
       "3  B07WVFCVJN  Electronics            27     4     4.8       114,267   4.44   \n",
       "4  B08YT2N5SX  Electronics             1     5     4.7       267,821   5.00   \n",
       "\n",
       "   Quantity  \n",
       "0         3  \n",
       "1         6  \n",
       "2         9  \n",
       "3        12  \n",
       "4        15  "
      ]
     },
     "execution_count": 16,
     "metadata": {},
     "output_type": "execute_result"
    }
   ],
   "source": [
    "data.head()"
   ]
  },
  {
   "cell_type": "code",
   "execution_count": 17,
   "id": "c97dc98f",
   "metadata": {
    "scrolled": true
   },
   "outputs": [
    {
     "data": {
      "text/html": [
       "<div>\n",
       "<style scoped>\n",
       "    .dataframe tbody tr th:only-of-type {\n",
       "        vertical-align: middle;\n",
       "    }\n",
       "\n",
       "    .dataframe tbody tr th {\n",
       "        vertical-align: top;\n",
       "    }\n",
       "\n",
       "    .dataframe thead th {\n",
       "        text-align: right;\n",
       "    }\n",
       "</style>\n",
       "<table border=\"1\" class=\"dataframe\">\n",
       "  <thead>\n",
       "    <tr style=\"text-align: right;\">\n",
       "      <th></th>\n",
       "      <th>No of Seller</th>\n",
       "      <th>Rank</th>\n",
       "      <th>Rating</th>\n",
       "      <th>Price</th>\n",
       "      <th>Quantity</th>\n",
       "    </tr>\n",
       "  </thead>\n",
       "  <tbody>\n",
       "    <tr>\n",
       "      <th>count</th>\n",
       "      <td>290.000000</td>\n",
       "      <td>290.000000</td>\n",
       "      <td>290.000000</td>\n",
       "      <td>290.000000</td>\n",
       "      <td>290.000000</td>\n",
       "    </tr>\n",
       "    <tr>\n",
       "      <th>mean</th>\n",
       "      <td>4.568966</td>\n",
       "      <td>50.465517</td>\n",
       "      <td>4.581379</td>\n",
       "      <td>30.826724</td>\n",
       "      <td>349.524138</td>\n",
       "    </tr>\n",
       "    <tr>\n",
       "      <th>std</th>\n",
       "      <td>8.881208</td>\n",
       "      <td>29.095842</td>\n",
       "      <td>0.338117</td>\n",
       "      <td>20.937209</td>\n",
       "      <td>213.632339</td>\n",
       "    </tr>\n",
       "    <tr>\n",
       "      <th>min</th>\n",
       "      <td>1.000000</td>\n",
       "      <td>1.000000</td>\n",
       "      <td>0.000000</td>\n",
       "      <td>4.000000</td>\n",
       "      <td>3.000000</td>\n",
       "    </tr>\n",
       "    <tr>\n",
       "      <th>25%</th>\n",
       "      <td>1.000000</td>\n",
       "      <td>25.250000</td>\n",
       "      <td>4.500000</td>\n",
       "      <td>14.990000</td>\n",
       "      <td>96.500000</td>\n",
       "    </tr>\n",
       "    <tr>\n",
       "      <th>50%</th>\n",
       "      <td>1.000000</td>\n",
       "      <td>51.000000</td>\n",
       "      <td>4.600000</td>\n",
       "      <td>24.995000</td>\n",
       "      <td>442.500000</td>\n",
       "    </tr>\n",
       "    <tr>\n",
       "      <th>75%</th>\n",
       "      <td>3.000000</td>\n",
       "      <td>75.750000</td>\n",
       "      <td>4.800000</td>\n",
       "      <td>50.000000</td>\n",
       "      <td>533.500000</td>\n",
       "    </tr>\n",
       "    <tr>\n",
       "      <th>max</th>\n",
       "      <td>67.000000</td>\n",
       "      <td>100.000000</td>\n",
       "      <td>5.000000</td>\n",
       "      <td>99.990000</td>\n",
       "      <td>614.000000</td>\n",
       "    </tr>\n",
       "  </tbody>\n",
       "</table>\n",
       "</div>"
      ],
      "text/plain": [
       "       No of Seller        Rank      Rating       Price    Quantity\n",
       "count    290.000000  290.000000  290.000000  290.000000  290.000000\n",
       "mean       4.568966   50.465517    4.581379   30.826724  349.524138\n",
       "std        8.881208   29.095842    0.338117   20.937209  213.632339\n",
       "min        1.000000    1.000000    0.000000    4.000000    3.000000\n",
       "25%        1.000000   25.250000    4.500000   14.990000   96.500000\n",
       "50%        1.000000   51.000000    4.600000   24.995000  442.500000\n",
       "75%        3.000000   75.750000    4.800000   50.000000  533.500000\n",
       "max       67.000000  100.000000    5.000000   99.990000  614.000000"
      ]
     },
     "execution_count": 17,
     "metadata": {},
     "output_type": "execute_result"
    }
   ],
   "source": [
    "data.describe()"
   ]
  },
  {
   "cell_type": "code",
   "execution_count": 18,
   "id": "daa0a683",
   "metadata": {},
   "outputs": [],
   "source": [
    "Analysis = DataAnalyzer()"
   ]
  },
  {
   "cell_type": "code",
   "execution_count": 19,
   "id": "62cbb059",
   "metadata": {},
   "outputs": [
    {
     "data": {
      "text/plain": [
       "4.596907216494844"
      ]
     },
     "execution_count": 19,
     "metadata": {},
     "output_type": "execute_result"
    }
   ],
   "source": [
    "RatingMean = Analysis.get_average_of_column(df[\"Rating\"])\n",
    "RatingMean"
   ]
  },
  {
   "cell_type": "code",
   "execution_count": 20,
   "id": "3ade8452",
   "metadata": {},
   "outputs": [
    {
     "data": {
      "text/plain": [
       "0.2029610401803353"
      ]
     },
     "execution_count": 20,
     "metadata": {},
     "output_type": "execute_result"
    }
   ],
   "source": [
    "RatingSd = Analysis.get_distribution_of_column(df[\"Rating\"])\n",
    "RatingSd"
   ]
  },
  {
   "cell_type": "code",
   "execution_count": 21,
   "id": "76054e31",
   "metadata": {},
   "outputs": [
    {
     "data": {
      "text/plain": [
       "439.5"
      ]
     },
     "execution_count": 21,
     "metadata": {},
     "output_type": "execute_result"
    }
   ],
   "source": [
    "RatingMedian = Analysis.get_median_of_column(df[\"Quantity\"])\n",
    "RatingMedian"
   ]
  },
  {
   "cell_type": "code",
   "execution_count": 22,
   "id": "8bc970d6",
   "metadata": {},
   "outputs": [
    {
     "data": {
      "text/plain": [
       "array([ 1,  2,  3,  4,  5,  6,  7,  8,  9, 10, 12, 14, 15, 16, 17, 18, 19,\n",
       "       21, 23, 25, 27, 32, 36, 37, 51, 63, 67], dtype=int64)"
      ]
     },
     "execution_count": 22,
     "metadata": {},
     "output_type": "execute_result"
    }
   ],
   "source": [
    "RatingMode = Analysis.get_mod_of_column(df[\"No of Seller\"])\n",
    "RatingMode"
   ]
  },
  {
   "cell_type": "code",
   "execution_count": 23,
   "id": "7c630c35",
   "metadata": {},
   "outputs": [],
   "source": [
    "Visualize = DataVisualizer()"
   ]
  },
  {
   "cell_type": "code",
   "execution_count": 24,
   "id": "7ea68190",
   "metadata": {},
   "outputs": [
    {
     "data": {
      "text/plain": [
       "<AxesSubplot:xlabel='No of Seller', ylabel='Price'>"
      ]
     },
     "execution_count": 24,
     "metadata": {},
     "output_type": "execute_result"
    },
    {
     "data": {
      "image/png": "[encoded data removed]",
      "text/plain": [
       "<Figure size 432x288 with 1 Axes>"
      ]
     },
     "metadata": {
      "needs_background": "light"
     },
     "output_type": "display_data"
    }
   ],
   "source": [
    "Visualize.plot_line_chart()"
   ]
  },
  {
   "cell_type": "code",
   "execution_count": 25,
   "id": "0d9abe17",
   "metadata": {},
   "outputs": [
    {
     "data": {
      "text/plain": [
       "<seaborn.axisgrid.FacetGrid at 0x21d94c8d0a0>"
      ]
     },
     "execution_count": 25,
     "metadata": {},
     "output_type": "execute_result"
    },
    {
     "data": {
      "image/png": "[encoded data removed]",
      "text/plain": [
       "<Figure size 360x360 with 1 Axes>"
      ]
     },
     "metadata": {
      "needs_background": "light"
     },
     "output_type": "display_data"
    }
   ],
   "source": [
    "Visualize.plot_distribution()"
   ]
  },
  {
   "cell_type": "code",
   "execution_count": 26,
   "id": "8b262dbd",
   "metadata": {},
   "outputs": [
    {
     "data": {
      "text/plain": [
       "([<matplotlib.patches.Wedge at 0x21d95798910>,\n",
       "  <matplotlib.patches.Wedge at 0x21d957a9070>,\n",
       "  <matplotlib.patches.Wedge at 0x21d957a9790>],\n",
       " [Text(6.735557395310444e-17, 1.1, 'Electronics'),\n",
       "  Text(-0.515249265943755, -0.9718632588715461, 'Clothing Shoes & Jewelry'),\n",
       "  Text(0.9718632588715461, -0.5152492659437551, 'Gift Cards')],\n",
       " [Text(3.6739403974420595e-17, 0.6, '50%'),\n",
       "  Text(-0.28104505415113906, -0.5301072321117524, '34%'),\n",
       "  Text(0.5301072321117524, -0.28104505415113906, '16%')])"
      ]
     },
     "execution_count": 26,
     "metadata": {},
     "output_type": "execute_result"
    },
    {
     "data": {
      "image/png": "[encoded data removed]",
      "text/plain": [
       "<Figure size 432x288 with 1 Axes>"
      ]
     },
     "metadata": {},
     "output_type": "display_data"
    }
   ],
   "source": [
    "Electronics_count = df[\"Category\"].value_counts()[\"Electronics\"]\n",
    "Clothing_count = df[\"Category\"].value_counts()[\"Clothing Shoes & Jewelry\"]\n",
    "Gift_count = df[\"Category\"].value_counts()[\"Gift Cards\"]\n",
    "\n",
    "array = np.array([Electronics_count, Clothing_count, Gift_count])\n",
    "keys = [\"Electronics\", \"Clothing Shoes & Jewelry\", \"Gift Cards\"]\n",
    "\n",
    "plt.pie(array, labels=keys, autopct='%.0f%%')\n",
    "#Visualize.plot_pie()"
   ]
  },
  {
   "cell_type": "code",
   "execution_count": 27,
   "id": "c262ae93",
   "metadata": {},
   "outputs": [
    {
     "data": {
      "text/plain": [
       "<AxesSubplot:xlabel='Price', ylabel='Quantity'>"
      ]
     },
     "execution_count": 27,
     "metadata": {},
     "output_type": "execute_result"
    },
    {
     "data": {
      "image/png": "[encoded data removed]",
      "text/plain": [
       "<Figure size 432x288 with 1 Axes>"
      ]
     },
     "metadata": {
      "needs_background": "light"
     },
     "output_type": "display_data"
    }
   ],
   "source": [
    "Visualize.plot_scatter()"
   ]
  },
  {
   "cell_type": "code",
   "execution_count": null,
   "id": "9752b78b",
   "metadata": {},
   "outputs": [],
   "source": []
  }
 ],
 "metadata": {
  "kernelspec": {
   "display_name": "Python 3 (ipykernel)",
   "language": "python",
   "name": "python3"
  },
  "language_info": {
   "codemirror_mode": {
    "name": "ipython",
    "version": 3
   },
   "file_extension": ".py",
   "mimetype": "text/x-python",
   "name": "python",
   "nbconvert_exporter": "python",
   "pygments_lexer": "ipython3",
   "version": "3.9.12"
  }
 },
 "nbformat": 4,
 "nbformat_minor": 5
}
